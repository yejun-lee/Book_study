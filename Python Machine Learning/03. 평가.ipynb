{
 "cells": [
  {
   "cell_type": "code",
   "execution_count": 2,
   "metadata": {},
   "outputs": [],
   "source": [
    "import warnings\n",
    "\n",
    "warnings.filterwarnings(action='ignore')"
   ]
  },
  {
   "cell_type": "markdown",
   "metadata": {},
   "source": [
    "## 3. 평가 (147p)"
   ]
  },
  {
   "cell_type": "markdown",
   "metadata": {},
   "source": [
    "### 분류의 성능 평가 지표\n",
    "1. 정확도(Accuracy)\n",
    "\n",
    "2. 오차행렬(Confusion Matrix)\n",
    "\n",
    "3. 정밀도(Precision)\n",
    "\n",
    "4. 재현율(Recall)\n",
    "\n",
    "5. F1 스코어\n",
    "\n",
    "6. ROC AUC"
   ]
  },
  {
   "cell_type": "markdown",
   "metadata": {},
   "source": [
    "이진 분류의 경우에는 데이터의 구성에 따라 ML 모델의 성능을 왜곡할 수 있기 때문에 정확도 수치 하나만 가지고 성능을 평가하지 않는다.\n",
    "\n",
    "타이타닉의 경우에는, 단지 성별 조건 하나만 가지고 결정하는 별거 아닌 알고리즘도 높은 정확도를 나타내는 상황이 발생한다."
   ]
  },
  {
   "cell_type": "markdown",
   "metadata": {},
   "source": [
    "### BaseEstimator\n",
    "Costomized 형태의 Estimator를 개발자가 생성할 수 있게 됨"
   ]
  },
  {
   "cell_type": "code",
   "execution_count": 7,
   "metadata": {},
   "outputs": [],
   "source": [
    "## 단순히 Sex가 1이면 0, 그렇지 않으면 1로 예측하는 매우 단순한 Classifier\n",
    "from sklearn.base import BaseEstimator\n",
    "import numpy as np\n",
    "\n",
    "class MyDummyClassifier(BaseEstimator):\n",
    "    # fit() 메서드는 아무것도 학습하지 않음\n",
    "    def fit(self, X, y=None):\n",
    "        pass\n",
    "    \n",
    "    # predict() 메서드는 단순히 Sex에 따라 0과 1을 반환함\n",
    "    def predict(self, X):\n",
    "        # 입력 값으로 들어오는 X 데이터 세트의 크기만큼 모두 0으로 만들어서 변환\n",
    "        pred = np.zeros((X.shape[0], 1))\n",
    "        \n",
    "        for i in range(X.shape[0]):\n",
    "            if X['Sex'].iloc[i] == 1: pred[i] = 0\n",
    "            else: pred[i] = 1\n",
    "                \n",
    "        return pred"
   ]
  },
  {
   "cell_type": "code",
   "execution_count": 8,
   "metadata": {},
   "outputs": [
    {
     "data": {
      "text/plain": [
       "array([[0.],\n",
       "       [0.],\n",
       "       [0.],\n",
       "       [0.],\n",
       "       [0.],\n",
       "       [0.],\n",
       "       [0.],\n",
       "       [0.],\n",
       "       [0.],\n",
       "       [0.]])"
      ]
     },
     "execution_count": 8,
     "metadata": {},
     "output_type": "execute_result"
    }
   ],
   "source": [
    "np.zeros((10, 1))"
   ]
  },
  {
   "cell_type": "markdown",
   "metadata": {},
   "source": [
    "### MyDummyClassifier를 이용한 타이타닉 생존자 예측"
   ]
  },
  {
   "cell_type": "code",
   "execution_count": 9,
   "metadata": {},
   "outputs": [],
   "source": [
    "import pandas as pd\n",
    "from sklearn.model_selection import train_test_split\n",
    "from sklearn.metrics import accuracy_score\n",
    "from sklearn.preprocessing import LabelEncoder"
   ]
  },
  {
   "cell_type": "code",
   "execution_count": 10,
   "metadata": {},
   "outputs": [
    {
     "name": "stdout",
     "output_type": "stream",
     "text": [
      "0.788\n"
     ]
    }
   ],
   "source": [
    "titanic = pd.read_csv('C:/Users/user/seaborn-data/titanic_train_kaggle.csv')\n",
    "\n",
    "encoder = LabelEncoder()\n",
    "encoder.fit(titanic['Sex'])\n",
    "titanic['Sex'] = encoder.transform(titanic['Sex'])\n",
    "\n",
    "sel = titanic.columns.drop('Survived')\n",
    "\n",
    "X = titanic[sel]\n",
    "y = titanic['Survived']\n",
    "\n",
    "X_train, X_test, y_train, y_test = train_test_split(X, y, \n",
    "                                                    test_size=0.2, random_state=0)\n",
    "\n",
    "# Dummy를 이용해 학습-예측-평가 수행\n",
    "dummy = MyDummyClassifier()\n",
    "dummy.fit(X_train, y_train)\n",
    "pred = dummy.predict(X_test)\n",
    "\n",
    "accuracy = accuracy_score(y_test, pred)\n",
    "print(round(accuracy, 3))"
   ]
  },
  {
   "cell_type": "markdown",
   "metadata": {},
   "source": [
    "### 오차 행렬\n",
    "정확도(accuracy)가 불균형한 레이블 데이터 세트에서 가지는 분류 평가 지표로서 한계점을 극복하기 위해 여러 가지 분류 지표와 함께 적용해야 함.\n",
    "\n",
    "-> 일반적으로 불균형한 레이블 클래스에서 적은 수의 결과 값에 Positive(1)를 설정함."
   ]
  },
  {
   "cell_type": "code",
   "execution_count": 11,
   "metadata": {},
   "outputs": [],
   "source": [
    "from sklearn.metrics import confusion_matrix"
   ]
  },
  {
   "cell_type": "code",
   "execution_count": 12,
   "metadata": {},
   "outputs": [
    {
     "data": {
      "text/plain": [
       "array([[92, 18],\n",
       "       [20, 49]], dtype=int64)"
      ]
     },
     "execution_count": 12,
     "metadata": {},
     "output_type": "execute_result"
    }
   ],
   "source": [
    "confusion_matrix(y_test, pred)"
   ]
  },
  {
   "cell_type": "markdown",
   "metadata": {},
   "source": [
    "=> 1이라고 예측한 것 중 맞은게 49개, 틀린게 18개\n",
    "\n",
    "=> 0이라고 예측한 것 중 맞은게 82개, 틀린게 20개"
   ]
  },
  {
   "cell_type": "code",
   "execution_count": 13,
   "metadata": {},
   "outputs": [
    {
     "data": {
      "text/plain": [
       "0    110\n",
       "1     69\n",
       "Name: Survived, dtype: int64"
      ]
     },
     "execution_count": 13,
     "metadata": {},
     "output_type": "execute_result"
    }
   ],
   "source": [
    "y_test.value_counts()"
   ]
  },
  {
   "cell_type": "markdown",
   "metadata": {},
   "source": [
    "confusion matrix : 오차행렬\n",
    "\n",
    "accuracy : 정확도\n",
    "\n",
    "precision : 정밀도\n",
    "\n",
    "recall : 재현율\n"
   ]
  },
  {
   "cell_type": "code",
   "execution_count": 14,
   "metadata": {},
   "outputs": [],
   "source": [
    "from sklearn.metrics import accuracy_score, precision_score, recall_score, confusion_matrix\n",
    "\n",
    "def get_clf_eval(y_test, pred):\n",
    "    confusion = confusion_matrix(y_test, pred)\n",
    "    accuracy = accuracy_score(y_test, pred)\n",
    "    precision = precision_score(y_test, pred)\n",
    "    recall = recall_score(y_test, pred) \n",
    "    \n",
    "    print('오차행렬\\n', confusion)\n",
    "    print('정확도 : {0:.3f}, 정밀도 : {1:.3f}, 재현율 : {2:.3f}'\n",
    "          .format(accuracy, precision, recall))"
   ]
  },
  {
   "cell_type": "code",
   "execution_count": 15,
   "metadata": {},
   "outputs": [
    {
     "name": "stdout",
     "output_type": "stream",
     "text": [
      "오차행렬\n",
      " [[97 21]\n",
      " [30 31]]\n",
      "정확도 : 0.715, 정밀도 : 0.596, 재현율 : 0.508\n"
     ]
    }
   ],
   "source": [
    "import pandas as pd\n",
    "from sklearn.model_selection import train_test_split\n",
    "from sklearn.linear_model import LogisticRegression\n",
    "\n",
    "titanic = pd.read_csv('C:/Users/user/seaborn-data/titanic_train_kaggle.csv')\n",
    "\n",
    "X = titanic[['Pclass', 'SibSp', 'Parch']]\n",
    "y = titanic['Survived']\n",
    "\n",
    "X_train, X_test, y_train, y_test = train_test_split(X, y, test_size=0.2, random_state=11)\n",
    "\n",
    "lr_clf = LogisticRegression()\n",
    "\n",
    "lr_clf.fit(X_train, y_train)\n",
    "pred = lr_clf.predict(X_test)\n",
    "\n",
    "get_clf_eval(y_test, pred)"
   ]
  },
  {
   "cell_type": "code",
   "execution_count": 16,
   "metadata": {},
   "outputs": [
    {
     "data": {
      "text/plain": [
       "array([[0.76791226, 0.23208774],\n",
       "       [0.74856135, 0.25143865],\n",
       "       [0.74856135, 0.25143865],\n",
       "       [0.5617484 , 0.4382516 ],\n",
       "       [0.61288906, 0.38711094],\n",
       "       [0.5617484 , 0.4382516 ],\n",
       "       [0.74856135, 0.25143865],\n",
       "       [0.74856135, 0.25143865],\n",
       "       [0.58755495, 0.41244505],\n",
       "       [0.49667805, 0.50332195],\n",
       "       [0.5617484 , 0.4382516 ],\n",
       "       [0.76791226, 0.23208774],\n",
       "       [0.74856135, 0.25143865],\n",
       "       [0.74856135, 0.25143865],\n",
       "       [0.35561852, 0.64438148],\n",
       "       [0.74856135, 0.25143865],\n",
       "       [0.76791226, 0.23208774],\n",
       "       [0.5617484 , 0.4382516 ],\n",
       "       [0.38017007, 0.61982993],\n",
       "       [0.63826838, 0.36173162],\n",
       "       [0.5617484 , 0.4382516 ],\n",
       "       [0.32073952, 0.67926048],\n",
       "       [0.74856135, 0.25143865],\n",
       "       [0.74856135, 0.25143865],\n",
       "       [0.74856135, 0.25143865],\n",
       "       [0.5617484 , 0.4382516 ],\n",
       "       [0.5617484 , 0.4382516 ],\n",
       "       [0.66227796, 0.33772204],\n",
       "       [0.5617484 , 0.4382516 ],\n",
       "       [0.38017007, 0.61982993],\n",
       "       [0.38017007, 0.61982993],\n",
       "       [0.5617484 , 0.4382516 ],\n",
       "       [0.76791226, 0.23208774],\n",
       "       [0.69622915, 0.30377085],\n",
       "       [0.38017007, 0.61982993],\n",
       "       [0.5617484 , 0.4382516 ],\n",
       "       [0.71809082, 0.28190918],\n",
       "       [0.76791226, 0.23208774],\n",
       "       [0.78619927, 0.21380073],\n",
       "       [0.74856135, 0.25143865],\n",
       "       [0.5617484 , 0.4382516 ],\n",
       "       [0.66227796, 0.33772204],\n",
       "       [0.5617484 , 0.4382516 ],\n",
       "       [0.54932003, 0.45067997],\n",
       "       [0.74856135, 0.25143865],\n",
       "       [0.74856135, 0.25143865],\n",
       "       [0.29817967, 0.70182033],\n",
       "       [0.47223246, 0.52776754],\n",
       "       [0.38017007, 0.61982993],\n",
       "       [0.74856135, 0.25143865],\n",
       "       [0.35561852, 0.64438148],\n",
       "       [0.74856135, 0.25143865],\n",
       "       [0.74856135, 0.25143865],\n",
       "       [0.73896903, 0.26103097],\n",
       "       [0.5617484 , 0.4382516 ],\n",
       "       [0.43172003, 0.56827997],\n",
       "       [0.35561852, 0.64438148],\n",
       "       [0.74856135, 0.25143865],\n",
       "       [0.74856135, 0.25143865],\n",
       "       [0.35561852, 0.64438148],\n",
       "       [0.5617484 , 0.4382516 ],\n",
       "       [0.76791226, 0.23208774],\n",
       "       [0.35561852, 0.64438148],\n",
       "       [0.35561852, 0.64438148],\n",
       "       [0.35561852, 0.64438148],\n",
       "       [0.74856135, 0.25143865],\n",
       "       [0.74856135, 0.25143865],\n",
       "       [0.74856135, 0.25143865],\n",
       "       [0.29817967, 0.70182033],\n",
       "       [0.74856135, 0.25143865],\n",
       "       [0.76791226, 0.23208774],\n",
       "       [0.74856135, 0.25143865],\n",
       "       [0.74856135, 0.25143865],\n",
       "       [0.2877538 , 0.7122462 ],\n",
       "       [0.5617484 , 0.4382516 ],\n",
       "       [0.74856135, 0.25143865],\n",
       "       [0.54932003, 0.45067997],\n",
       "       [0.5617484 , 0.4382516 ],\n",
       "       [0.5617484 , 0.4382516 ],\n",
       "       [0.74856135, 0.25143865],\n",
       "       [0.5617484 , 0.4382516 ],\n",
       "       [0.63826838, 0.36173162],\n",
       "       [0.35561852, 0.64438148],\n",
       "       [0.58755495, 0.41244505],\n",
       "       [0.35561852, 0.64438148],\n",
       "       [0.38017007, 0.61982993],\n",
       "       [0.74856135, 0.25143865],\n",
       "       [0.74856135, 0.25143865],\n",
       "       [0.43172003, 0.56827997],\n",
       "       [0.74856135, 0.25143865],\n",
       "       [0.74856135, 0.25143865],\n",
       "       [0.5617484 , 0.4382516 ],\n",
       "       [0.49667805, 0.50332195],\n",
       "       [0.74856135, 0.25143865],\n",
       "       [0.74856135, 0.25143865],\n",
       "       [0.74856135, 0.25143865],\n",
       "       [0.35561852, 0.64438148],\n",
       "       [0.74856135, 0.25143865],\n",
       "       [0.35561852, 0.64438148],\n",
       "       [0.35561852, 0.64438148],\n",
       "       [0.68547922, 0.31452078],\n",
       "       [0.77761625, 0.22238375],\n",
       "       [0.35561852, 0.64438148],\n",
       "       [0.74856135, 0.25143865],\n",
       "       [0.71809082, 0.28190918],\n",
       "       [0.74856135, 0.25143865],\n",
       "       [0.74856135, 0.25143865],\n",
       "       [0.74856135, 0.25143865],\n",
       "       [0.72914318, 0.27085682],\n",
       "       [0.71809082, 0.28190918],\n",
       "       [0.5617484 , 0.4382516 ],\n",
       "       [0.74856135, 0.25143865],\n",
       "       [0.52306309, 0.47693691],\n",
       "       [0.35561852, 0.64438148],\n",
       "       [0.74856135, 0.25143865],\n",
       "       [0.78619927, 0.21380073],\n",
       "       [0.5617484 , 0.4382516 ],\n",
       "       [0.5617484 , 0.4382516 ],\n",
       "       [0.29817967, 0.70182033],\n",
       "       [0.74856135, 0.25143865],\n",
       "       [0.74856135, 0.25143865],\n",
       "       [0.76791226, 0.23208774],\n",
       "       [0.71809082, 0.28190918],\n",
       "       [0.60154655, 0.39845345],\n",
       "       [0.80419196, 0.19580804],\n",
       "       [0.74856135, 0.25143865],\n",
       "       [0.71809082, 0.28190918],\n",
       "       [0.5617484 , 0.4382516 ],\n",
       "       [0.69622915, 0.30377085],\n",
       "       [0.35561852, 0.64438148],\n",
       "       [0.35561852, 0.64438148],\n",
       "       [0.35561852, 0.64438148],\n",
       "       [0.76791226, 0.23208774],\n",
       "       [0.44601367, 0.55398633],\n",
       "       [0.76791226, 0.23208774],\n",
       "       [0.47223246, 0.52776754],\n",
       "       [0.49667805, 0.50332195],\n",
       "       [0.32073952, 0.67926048],\n",
       "       [0.74856135, 0.25143865],\n",
       "       [0.32073952, 0.67926048],\n",
       "       [0.35561852, 0.64438148],\n",
       "       [0.74856135, 0.25143865],\n",
       "       [0.74856135, 0.25143865],\n",
       "       [0.70778983, 0.29221017],\n",
       "       [0.74856135, 0.25143865],\n",
       "       [0.4194153 , 0.5805847 ],\n",
       "       [0.74856135, 0.25143865],\n",
       "       [0.35561852, 0.64438148],\n",
       "       [0.38017007, 0.61982993],\n",
       "       [0.58755495, 0.41244505],\n",
       "       [0.35561852, 0.64438148],\n",
       "       [0.63826838, 0.36173162],\n",
       "       [0.76791226, 0.23208774],\n",
       "       [0.74856135, 0.25143865],\n",
       "       [0.58755495, 0.41244505],\n",
       "       [0.30987312, 0.69012688],\n",
       "       [0.38017007, 0.61982993],\n",
       "       [0.74856135, 0.25143865],\n",
       "       [0.71809082, 0.28190918],\n",
       "       [0.74856135, 0.25143865],\n",
       "       [0.74856135, 0.25143865],\n",
       "       [0.43172003, 0.56827997],\n",
       "       [0.74856135, 0.25143865],\n",
       "       [0.74856135, 0.25143865],\n",
       "       [0.75882032, 0.24117968],\n",
       "       [0.74856135, 0.25143865],\n",
       "       [0.29817967, 0.70182033],\n",
       "       [0.35561852, 0.64438148],\n",
       "       [0.74856135, 0.25143865],\n",
       "       [0.38017007, 0.61982993],\n",
       "       [0.74856135, 0.25143865],\n",
       "       [0.54932003, 0.45067997],\n",
       "       [0.58755495, 0.41244505],\n",
       "       [0.58755495, 0.41244505],\n",
       "       [0.44601367, 0.55398633],\n",
       "       [0.74856135, 0.25143865],\n",
       "       [0.74856135, 0.25143865],\n",
       "       [0.35561852, 0.64438148],\n",
       "       [0.38017007, 0.61982993]])"
      ]
     },
     "execution_count": 16,
     "metadata": {},
     "output_type": "execute_result"
    }
   ],
   "source": [
    "### [ Negative확률 : Positive확률 ]\n",
    "lr_clf.predict_proba(X_test)"
   ]
  },
  {
   "cell_type": "code",
   "execution_count": 17,
   "metadata": {},
   "outputs": [
    {
     "data": {
      "text/plain": [
       "array([0, 0, 0, 0, 0, 0, 0, 0, 0, 1, 0, 0, 0, 0, 1, 0, 0, 0, 1, 0, 0, 1,\n",
       "       0, 0, 0, 0, 0, 0, 0, 1, 1, 0, 0, 0, 1, 0, 0, 0, 0, 0, 0, 0, 0, 0,\n",
       "       0, 0, 1, 1, 1, 0, 1, 0, 0, 0, 0, 1, 1, 0, 0, 1, 0, 0, 1, 1, 1, 0,\n",
       "       0, 0, 1, 0, 0, 0, 0, 1, 0, 0, 0, 0, 0, 0, 0, 0, 1, 0, 1, 1, 0, 0,\n",
       "       1, 0, 0, 0, 1, 0, 0, 0, 1, 0, 1, 1, 0, 0, 1, 0, 0, 0, 0, 0, 0, 0,\n",
       "       0, 0, 0, 1, 0, 0, 0, 0, 1, 0, 0, 0, 0, 0, 0, 0, 0, 0, 0, 1, 1, 1,\n",
       "       0, 1, 0, 1, 1, 1, 0, 1, 1, 0, 0, 0, 0, 1, 0, 1, 1, 0, 1, 0, 0, 0,\n",
       "       0, 1, 1, 0, 0, 0, 0, 1, 0, 0, 0, 0, 1, 1, 0, 1, 0, 0, 0, 0, 1, 0,\n",
       "       0, 1, 1], dtype=int64)"
      ]
     },
     "execution_count": 17,
     "metadata": {},
     "output_type": "execute_result"
    }
   ],
   "source": [
    "lr_clf.predict(X_test)"
   ]
  },
  {
   "cell_type": "markdown",
   "metadata": {},
   "source": [
    "### 샘플 threshold(임계값) 별 정밀도와 재현율 출력\n",
    "\n",
    "precision_recall_curve()"
   ]
  },
  {
   "cell_type": "code",
   "execution_count": 22,
   "metadata": {},
   "outputs": [
    {
     "name": "stdout",
     "output_type": "stream",
     "text": [
      "반환된 분류 결정 임곗값 배열의 shape : (28,)\n",
      "샘플 추출을 위한 임계값 배열의 index 10개 : [ 0  2  4  6  8 10 12 14 16 18 20 22 24 26]\n",
      "샘플용 10개의 임계값 : [0.23 0.25 0.27 0.29 0.31 0.36 0.4  0.44 0.48 0.53 0.57 0.62 0.68 0.7 ]\n",
      "샘플 임계값 별 정밀도 : [0.349 0.362 0.447 0.469 0.462 0.478 0.465 0.494 0.604 0.592 0.622 0.61\n",
      " 0.778 1.   ]\n",
      "샘플 임계값 별 재현율 : [1.    0.967 0.754 0.738 0.705 0.705 0.656 0.639 0.525 0.475 0.459 0.41\n",
      " 0.115 0.082]\n"
     ]
    }
   ],
   "source": [
    "from sklearn.metrics import precision_recall_curve\n",
    "\n",
    "# 레이블 값이 1일 때의 예측확률을 추출\n",
    "pred_proba_class = lr_clf.predict_proba(X_test)[:, 1]\n",
    "\n",
    "# 실제값 데이터 세트와 레이블 값이 1일 때의 예측확률을 precision_recall_curve의 인자로 입력\n",
    "precisions, recalls, thresholds = precision_recall_curve(y_test, pred_proba_class)\n",
    "print('반환된 분류 결정 임곗값 배열의 shape :', thresholds.shape)\n",
    "\n",
    "# 반환된 임계값 배열 로우가 147건이므로 샘플로 10건만 추출하되, 임계값을 15step으로 추출\n",
    "thr_index = np.arange(0, thresholds.shape[0], 2)\n",
    "print('샘플 추출을 위한 임계값 배열의 index 10개 :', thr_index)\n",
    "print('샘플용 10개의 임계값 :', np.round(thresholds[thr_index], 2))\n",
    "\n",
    "# 15 step 단위로 추출된 임계값에 따른 정밀도와 재현율 값\n",
    "print('샘플 임계값 별 정밀도 :', np.round(precisions[thr_index], 3))\n",
    "print('샘플 임계값 별 재현율 :', np.round(recalls[thr_index], 3))"
   ]
  },
  {
   "cell_type": "markdown",
   "metadata": {},
   "source": [
    "-> 임계값이 커질수록 정밀도는 증가하고 재현율은 감소한다."
   ]
  },
  {
   "cell_type": "code",
   "execution_count": 23,
   "metadata": {},
   "outputs": [],
   "source": [
    "import matplotlib.pyplot as plt\n",
    "import matplotlib.ticker as ticker\n",
    "%matplotlib inline"
   ]
  },
  {
   "cell_type": "code",
   "execution_count": 25,
   "metadata": {},
   "outputs": [
    {
     "data": {
      "image/png": "[encoded data removed]",
      "text/plain": [
       "<Figure size 576x432 with 1 Axes>"
      ]
     },
     "metadata": {},
     "output_type": "display_data"
    }
   ],
   "source": [
    "def precision_recall_curve_plot(y_test, pred_proba_c1):\n",
    "    # threshold ndarray와 이 threshold에 따른 정밀도, 재현율 ndarray 추출\n",
    "    precisions, recalls, thresholds = precision_recall_curve(y_test, pred_proba_c1)\n",
    "    \n",
    "    # X축을 threshold 값으로, Y축은 정밀도, 재현율 값으로 각각 plot 수행. 정밀도는 점선으로 표시\n",
    "    plt.figure(figsize=(8,6), facecolor='white')\n",
    "    threshold_boundary = thresholds.shape[0]\n",
    "    plt.plot(thresholds, precisions[0:threshold_boundary], linestyle='--', label='precision')\n",
    "    plt.plot(thresholds, recalls[0:threshold_boundary], label='recall')\n",
    "    \n",
    "    # threshold 값 X 축의 Scale을 0.1단위로 변경\n",
    "    start, end = plt.xlim()\n",
    "    plt.xticks(np.round(np.arange(start, end, 0.1), 2))\n",
    "    \n",
    "    # x축, y축 label과 legend, 그리고 grid 설정\n",
    "    plt.xlabel('Threshold value'); plt.ylabel('Precision and Recall value')\n",
    "    plt.legend(); plt.grid()\n",
    "    plt.show()\n",
    "    \n",
    "precision_recall_curve_plot(y_test, lr_clf.predict_proba(X_test)[:, 1])"
   ]
  },
  {
   "cell_type": "markdown",
   "metadata": {},
   "source": [
    "### F1 스코어\n",
    "\n",
    "F1 스코어는 정밀도와 재현율이 어느 한 쪽으로 치우치지 않는 수치를 나타낼 때 상대적으로 높은 값을 가짐.\n",
    "\n",
    "```python\n",
    "from sklearn.metrics import f1_score\n",
    "```"
   ]
  },
  {
   "cell_type": "markdown",
   "metadata": {},
   "source": [
    "### ROC 곡선과 AUC\n",
    "\n",
    "ROC 곡선은 FPR(False Positive Rate)이 변할 때 TPR(재현율/민감도)이 어떻게 변하는지 나타내는 곡선.\n",
    "\n",
    "TNR : 특이성 ( TN / (FP + TN) )\n",
    "\n",
    "FPR : ROC 곡선의 X 축  ( FP / (FP + TN) )  =  1 - TNR\n",
    "\n",
    "분류의 성능 지표로 사용되는 것은 ROC 면적에 기반한 AUC(Area Under Curve) 값으로 결정.\n",
    "\n",
    "AUC는 1에 가까울 수록 좋은 수치. \n",
    "\n",
    "AUC 수치가 커지려면 FPR이 작은 상태에서 얼마나 큰 TPR을 얻을 수 있느냐가 관건."
   ]
  },
  {
   "cell_type": "code",
   "execution_count": null,
   "metadata": {},
   "outputs": [],
   "source": []
  },
  {
   "cell_type": "code",
   "execution_count": null,
   "metadata": {},
   "outputs": [],
   "source": []
  },
  {
   "cell_type": "code",
   "execution_count": null,
   "metadata": {},
   "outputs": [],
   "source": []
  },
  {
   "cell_type": "code",
   "execution_count": null,
   "metadata": {},
   "outputs": [],
   "source": []
  }
 ],
 "metadata": {
  "kernelspec": {
   "display_name": "Python 3",
   "language": "python",
   "name": "python3"
  },
  "language_info": {
   "codemirror_mode": {
    "name": "ipython",
    "version": 3
   },
   "file_extension": ".py",
   "mimetype": "text/x-python",
   "name": "python",
   "nbconvert_exporter": "python",
   "pygments_lexer": "ipython3",
   "version": "3.8.5"
  }
 },
 "nbformat": 4,
 "nbformat_minor": 4
}
